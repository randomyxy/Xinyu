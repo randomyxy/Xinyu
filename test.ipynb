{
 "cells": [
  {
   "cell_type": "code",
   "execution_count": 1,
   "metadata": {
    "collapsed": true
   },
   "outputs": [],
   "source": [
    "import array\n",
    "import cartopy\n"
   ]
  },
  {
   "cell_type": "code",
   "execution_count": 2,
   "outputs": [],
   "source": [
    "import matplotlib.pyplot as plt\n",
    "import matplotlib.colors as mcolors\n",
    "import numpy as np\n",
    "import cartopy.crs as ccrs\n",
    "import xarray as xr"
   ],
   "metadata": {
    "collapsed": false
   }
  },
  {
   "cell_type": "code",
   "execution_count": 3,
   "outputs": [],
   "source": [
    "import cartopy.io.shapereader as shpreader\n",
    "import cartopy.feature as cfeature\n",
    "\n",
    "import matplotlib.pyplot as plt\n",
    "import matplotlib.colors as mcolors\n",
    "import numpy as np\n",
    "import cartopy.crs as ccrs\n",
    "import xarray as xr\n",
    "\n",
    "# Define a function to handle the discontinuity\n",
    "def handle_dateline_discontinuity(lons, lats, wind, threshold=0.8):\n",
    "    \"\"\"\n",
    "    Handle the discontinuity at the dateline by splitting the track into segments.\n",
    "    'threshold' is the fraction of the range of longitudes at which we consider it to be a discontinuity.\n",
    "    \"\"\"\n",
    "    segments = []\n",
    "    segment = [[], []]\n",
    "\n",
    "    # Calculate the threshold in degrees (0.8 times the range of longitudes)\n",
    "    lon_range = np.max(lons) - np.min(lons)\n",
    "    discontinuity_threshold = lon_range * threshold\n",
    "\n",
    "    for i in range(1, len(lons)):\n",
    "        if (abs(lons[i] - lons[i-1]) > discontinuity_threshold) or (wind[i-1] <= 25 and wind[i] > 25) or (wind[i-1] > 25 and wind[i] <= 25):\n",
    "            # If there is a large jump in longitude, or the wind speed crosses the 25 m/s threshold, end the current segment\n",
    "            segments.append(segment)\n",
    "            segment = [[], []]\n",
    "        segment[0].append(lons[i])\n",
    "        segment[1].append(lats[i])\n",
    "\n",
    "    segments.append(segment)  # add the last segment\n",
    "    return segments"
   ],
   "metadata": {
    "collapsed": false
   }
  },
  {
   "cell_type": "code",
   "execution_count": null,
   "outputs": [],
   "source": [],
   "metadata": {
    "collapsed": false
   }
  }
 ],
 "metadata": {
  "kernelspec": {
   "display_name": "Python 3",
   "language": "python",
   "name": "python3"
  },
  "language_info": {
   "codemirror_mode": {
    "name": "ipython",
    "version": 2
   },
   "file_extension": ".py",
   "mimetype": "text/x-python",
   "name": "python",
   "nbconvert_exporter": "python",
   "pygments_lexer": "ipython2",
   "version": "2.7.6"
  }
 },
 "nbformat": 4,
 "nbformat_minor": 0
}
